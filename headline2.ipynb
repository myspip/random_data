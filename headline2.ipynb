{
  "nbformat": 4,
  "nbformat_minor": 0,
  "metadata": {
    "colab": {
      "name": "Copy of Untitled0.ipynb",
      "version": "0.3.2",
      "provenance": [],
      "collapsed_sections": [],
      "include_colab_link": true
    },
    "kernelspec": {
      "name": "python3",
      "display_name": "Python 3"
    },
    "accelerator": "GPU"
  },
  "cells": [
    {
      "cell_type": "markdown",
      "metadata": {
        "id": "view-in-github",
        "colab_type": "text"
      },
      "source": [
        "<a href=\"https://colab.research.google.com/github/myspip/random_data/blob/master/headline2.ipynb\" target=\"_parent\"><img src=\"https://colab.research.google.com/assets/colab-badge.svg\" alt=\"Open In Colab\"/></a>"
      ]
    },
    {
      "metadata": {
        "id": "u0kZGzuvz4u0",
        "colab_type": "code",
        "outputId": "cbe0cee5-9ce7-4ed5-fc64-836563e1d043",
        "colab": {
          "base_uri": "https://localhost:8080/",
          "height": 132
        }
      },
      "cell_type": "code",
      "source": [
        "`!curl -s https://course.fast.ai/setup/colab | bash"
      ],
      "execution_count": 1,
      "outputs": [
        {
          "output_type": "error",
          "ename": "SyntaxError",
          "evalue": "ignored",
          "traceback": [
            "\u001b[0;36m  File \u001b[0;32m\"<ipython-input-1-458847db4f7e>\"\u001b[0;36m, line \u001b[0;32m1\u001b[0m\n\u001b[0;31m    `!curl -s https://course.fast.ai/setup/colab | bash\u001b[0m\n\u001b[0m    ^\u001b[0m\n\u001b[0;31mSyntaxError\u001b[0m\u001b[0;31m:\u001b[0m invalid syntax\n"
          ]
        }
      ]
    },
    {
      "metadata": {
        "id": "hjyCCpBdveXG",
        "colab_type": "code",
        "colab": {}
      },
      "cell_type": "code",
      "source": [
        "%reload_ext autoreload\n",
        "%autoreload 2\n",
        "%matplotlib inline"
      ],
      "execution_count": 0,
      "outputs": []
    },
    {
      "metadata": {
        "id": "zIinMDjc0bL3",
        "colab_type": "code",
        "colab": {}
      },
      "cell_type": "code",
      "source": [
        "from fastai.text import *"
      ],
      "execution_count": 0,
      "outputs": []
    },
    {
      "metadata": {
        "id": "ZqgsFL9p0xL7",
        "colab_type": "code",
        "colab": {}
      },
      "cell_type": "code",
      "source": [
        "import pandas as pd"
      ],
      "execution_count": 0,
      "outputs": []
    },
    {
      "metadata": {
        "id": "FHEbdxqd0gOj",
        "colab_type": "code",
        "colab": {}
      },
      "cell_type": "code",
      "source": [
        "train_data = pd.read_csv(\"https://raw.githubusercontent.com/myspip/random_data/master/Headline/train.csv\")"
      ],
      "execution_count": 0,
      "outputs": []
    },
    {
      "metadata": {
        "id": "znM2ubpqycHo",
        "colab_type": "code",
        "colab": {
          "base_uri": "https://localhost:8080/",
          "height": 194
        },
        "outputId": "5ff8ac46-ab34-470e-d920-25e3bcef03fe"
      },
      "cell_type": "code",
      "source": [
        "import re\n",
        "# Change company identifiers to 'compani' (stemmer.stem(\"company\"))\n",
        "for replace in ['cemex', \"facebook\", \"facebooks\", \"lukoil\", \"dowdupont\", \"tesla\", \"uber\", \n",
        "                                                          \"disney\", \"reliance\", \"saic\", \"gerdau\", \"deutsche\", \"kinder\", \n",
        "                                                          \"morgan\", \"motor\", \"bank\", \"ford\", \"exxon\",\"masco\",\"ubs\",\n",
        "                                                                       \"fiat\",\"daimler\",\"alphabet\",\"basf\",\"suncor\",\n",
        "                                                                       'apple','wells','fargo', 'citigroup', 'citi', \n",
        "                                                                       'comcast','viacom','chrysler','mobil']:\n",
        "    train_data.loc[:, \"URL of the article\"].replace(re.compile(r'\\b{}\\b'.format(replace), re.IGNORECASE), \"company\", inplace=True)\n",
        "\n",
        "    \n",
        "train_data.loc[:, \"URL of the article\"].replace(re.compile(r'\\b{}\\b'.format(\"company company\"), re.IGNORECASE), \"company\", inplace=True)\n",
        "train_data.head()"
      ],
      "execution_count": 38,
      "outputs": [
        {
          "output_type": "execute_result",
          "data": {
            "text/html": [
              "<div>\n",
              "<style scoped>\n",
              "    .dataframe tbody tr th:only-of-type {\n",
              "        vertical-align: middle;\n",
              "    }\n",
              "\n",
              "    .dataframe tbody tr th {\n",
              "        vertical-align: top;\n",
              "    }\n",
              "\n",
              "    .dataframe thead th {\n",
              "        text-align: right;\n",
              "    }\n",
              "</style>\n",
              "<table border=\"1\" class=\"dataframe\">\n",
              "  <thead>\n",
              "    <tr style=\"text-align: right;\">\n",
              "      <th></th>\n",
              "      <th>Company</th>\n",
              "      <th>URL of the article</th>\n",
              "      <th>Good Bad or Neutral</th>\n",
              "    </tr>\n",
              "  </thead>\n",
              "  <tbody>\n",
              "    <tr>\n",
              "      <th>0</th>\n",
              "      <td>Ford Motor</td>\n",
              "      <td>company: That's a Lot of Recalls -- Barron's Blog</td>\n",
              "      <td>Bad</td>\n",
              "    </tr>\n",
              "    <tr>\n",
              "      <th>1</th>\n",
              "      <td>Ford Motor</td>\n",
              "      <td>Press Release: Event Alert: Kinaxis Customer, ...</td>\n",
              "      <td>Neutral</td>\n",
              "    </tr>\n",
              "    <tr>\n",
              "      <th>2</th>\n",
              "      <td>Ford Motor</td>\n",
              "      <td>company: How Risky is Its Autonomous Driving P...</td>\n",
              "      <td>Bad</td>\n",
              "    </tr>\n",
              "    <tr>\n",
              "      <th>3</th>\n",
              "      <td>Ford Motor</td>\n",
              "      <td>company Plans Ride-Hailing Service With Fleet ...</td>\n",
              "      <td>Good</td>\n",
              "    </tr>\n",
              "    <tr>\n",
              "      <th>4</th>\n",
              "      <td>Ford Motor</td>\n",
              "      <td>company Files 8K - Other Events &gt;F</td>\n",
              "      <td>Bad</td>\n",
              "    </tr>\n",
              "  </tbody>\n",
              "</table>\n",
              "</div>"
            ],
            "text/plain": [
              "      Company                                 URL of the article  \\\n",
              "0  Ford Motor  company: That's a Lot of Recalls -- Barron's Blog   \n",
              "1  Ford Motor  Press Release: Event Alert: Kinaxis Customer, ...   \n",
              "2  Ford Motor  company: How Risky is Its Autonomous Driving P...   \n",
              "3  Ford Motor  company Plans Ride-Hailing Service With Fleet ...   \n",
              "4  Ford Motor                 company Files 8K - Other Events >F   \n",
              "\n",
              "  Good Bad or Neutral  \n",
              "0                 Bad  \n",
              "1             Neutral  \n",
              "2                 Bad  \n",
              "3                Good  \n",
              "4                 Bad  "
            ]
          },
          "metadata": {
            "tags": []
          },
          "execution_count": 38
        }
      ]
    },
    {
      "metadata": {
        "id": "jHsw009uya01",
        "colab_type": "code",
        "colab": {}
      },
      "cell_type": "code",
      "source": [
        "train_data = train_data[[\"Good Bad or Neutral\",\"URL of the article\"]]\n",
        "train_data.columns = [\"label\", 'text']"
      ],
      "execution_count": 0,
      "outputs": []
    },
    {
      "metadata": {
        "id": "j9mAzzMb48NU",
        "colab_type": "code",
        "colab": {}
      },
      "cell_type": "code",
      "source": [
        "test_data = pd.read_csv(\"https://raw.githubusercontent.com/myspip/random_data/master/Headline/test.csv\")"
      ],
      "execution_count": 0,
      "outputs": []
    },
    {
      "metadata": {
        "id": "z402Hr2y1bFy",
        "colab_type": "code",
        "colab": {
          "base_uri": "https://localhost:8080/",
          "height": 194
        },
        "outputId": "72c3e00e-1ca4-4eca-e98e-9a06a08213a7"
      },
      "cell_type": "code",
      "source": [
        "import re\n",
        "# Change company identifiers to 'compani' (stemmer.stem(\"company\"))\n",
        "for replace in ['cemex', \"facebook\", \"facebooks\", \"lukoil\", \"dowdupont\", \"tesla\", \"uber\", \n",
        "                                                          \"disney\", \"reliance\", \"saic\", \"gerdau\", \"deutsche\", \"kinder\", \n",
        "                                                          \"morgan\", \"motor\", \"bank\", \"ford\", \"exxon\",\"masco\",\"ubs\",\n",
        "                                                                       \"fiat\",\"daimler\",\"alphabet\",\"basf\",\"suncor\",\n",
        "                                                                       'apple','wells','fargo', 'citigroup', 'citi', \n",
        "                                                                       'comcast','viacom','chrysler','mobil']:\n",
        "    test_data.loc[:, \"URL of the article\"].replace(re.compile(r'\\b{}\\b'.format(replace), re.IGNORECASE), \"company\", inplace=True)\n",
        "\n",
        "test_data.loc[:, \"URL of the article\"].replace(re.compile(r'\\b{}\\b'.format(\"company company\"), re.IGNORECASE), \"company\", inplace=True)\n",
        "test_data.head()"
      ],
      "execution_count": 41,
      "outputs": [
        {
          "output_type": "execute_result",
          "data": {
            "text/html": [
              "<div>\n",
              "<style scoped>\n",
              "    .dataframe tbody tr th:only-of-type {\n",
              "        vertical-align: middle;\n",
              "    }\n",
              "\n",
              "    .dataframe tbody tr th {\n",
              "        vertical-align: top;\n",
              "    }\n",
              "\n",
              "    .dataframe thead th {\n",
              "        text-align: right;\n",
              "    }\n",
              "</style>\n",
              "<table border=\"1\" class=\"dataframe\">\n",
              "  <thead>\n",
              "    <tr style=\"text-align: right;\">\n",
              "      <th></th>\n",
              "      <th>Company</th>\n",
              "      <th>URL of the article</th>\n",
              "      <th>Good Bad or Neutral</th>\n",
              "    </tr>\n",
              "  </thead>\n",
              "  <tbody>\n",
              "    <tr>\n",
              "      <th>0</th>\n",
              "      <td>Cemex</td>\n",
              "      <td>Building materials producer company raises 201...</td>\n",
              "      <td>Good</td>\n",
              "    </tr>\n",
              "    <tr>\n",
              "      <th>1</th>\n",
              "      <td>Cemex</td>\n",
              "      <td>company Plans More Asset Sales, Debt Reduction</td>\n",
              "      <td>Good</td>\n",
              "    </tr>\n",
              "    <tr>\n",
              "      <th>2</th>\n",
              "      <td>Cemex</td>\n",
              "      <td>Press Release: company Announces an Increase i...</td>\n",
              "      <td>Good</td>\n",
              "    </tr>\n",
              "    <tr>\n",
              "      <th>3</th>\n",
              "      <td>Cemex</td>\n",
              "      <td>AFTER YEARS OF OPPOSITION, MINE EXPANSION PASS...</td>\n",
              "      <td>Good</td>\n",
              "    </tr>\n",
              "    <tr>\n",
              "      <th>4</th>\n",
              "      <td>Cemex</td>\n",
              "      <td>Digital platform company Go lists 10,000 custo...</td>\n",
              "      <td>Good</td>\n",
              "    </tr>\n",
              "  </tbody>\n",
              "</table>\n",
              "</div>"
            ],
            "text/plain": [
              "  Company                                 URL of the article  \\\n",
              "0   Cemex  Building materials producer company raises 201...   \n",
              "1   Cemex     company Plans More Asset Sales, Debt Reduction   \n",
              "2   Cemex  Press Release: company Announces an Increase i...   \n",
              "3   Cemex  AFTER YEARS OF OPPOSITION, MINE EXPANSION PASS...   \n",
              "4   Cemex  Digital platform company Go lists 10,000 custo...   \n",
              "\n",
              "  Good Bad or Neutral  \n",
              "0                Good  \n",
              "1                Good  \n",
              "2                Good  \n",
              "3                Good  \n",
              "4                Good  "
            ]
          },
          "metadata": {
            "tags": []
          },
          "execution_count": 41
        }
      ]
    },
    {
      "metadata": {
        "id": "l3p7Tv6u1bdA",
        "colab_type": "code",
        "colab": {}
      },
      "cell_type": "code",
      "source": [
        "test_data = test_data[[\"Good Bad or Neutral\",\"URL of the article\"]]\n",
        "test_data.columns = [\"label\", 'text']"
      ],
      "execution_count": 0,
      "outputs": []
    },
    {
      "metadata": {
        "id": "QgfcxOta0odn",
        "colab_type": "code",
        "outputId": "25d26540-cd5d-48c0-f3ff-add5a980153a",
        "colab": {
          "base_uri": "https://localhost:8080/",
          "height": 194
        }
      },
      "cell_type": "code",
      "source": [
        "combined_data = pd.concat([train_data, test_data], axis = 0)\n",
        "combined_data.head()"
      ],
      "execution_count": 43,
      "outputs": [
        {
          "output_type": "execute_result",
          "data": {
            "text/html": [
              "<div>\n",
              "<style scoped>\n",
              "    .dataframe tbody tr th:only-of-type {\n",
              "        vertical-align: middle;\n",
              "    }\n",
              "\n",
              "    .dataframe tbody tr th {\n",
              "        vertical-align: top;\n",
              "    }\n",
              "\n",
              "    .dataframe thead th {\n",
              "        text-align: right;\n",
              "    }\n",
              "</style>\n",
              "<table border=\"1\" class=\"dataframe\">\n",
              "  <thead>\n",
              "    <tr style=\"text-align: right;\">\n",
              "      <th></th>\n",
              "      <th>label</th>\n",
              "      <th>text</th>\n",
              "    </tr>\n",
              "  </thead>\n",
              "  <tbody>\n",
              "    <tr>\n",
              "      <th>0</th>\n",
              "      <td>Bad</td>\n",
              "      <td>company: That's a Lot of Recalls -- Barron's Blog</td>\n",
              "    </tr>\n",
              "    <tr>\n",
              "      <th>1</th>\n",
              "      <td>Neutral</td>\n",
              "      <td>Press Release: Event Alert: Kinaxis Customer, ...</td>\n",
              "    </tr>\n",
              "    <tr>\n",
              "      <th>2</th>\n",
              "      <td>Bad</td>\n",
              "      <td>company: How Risky is Its Autonomous Driving P...</td>\n",
              "    </tr>\n",
              "    <tr>\n",
              "      <th>3</th>\n",
              "      <td>Good</td>\n",
              "      <td>company Plans Ride-Hailing Service With Fleet ...</td>\n",
              "    </tr>\n",
              "    <tr>\n",
              "      <th>4</th>\n",
              "      <td>Bad</td>\n",
              "      <td>company Files 8K - Other Events &gt;F</td>\n",
              "    </tr>\n",
              "  </tbody>\n",
              "</table>\n",
              "</div>"
            ],
            "text/plain": [
              "     label                                               text\n",
              "0      Bad  company: That's a Lot of Recalls -- Barron's Blog\n",
              "1  Neutral  Press Release: Event Alert: Kinaxis Customer, ...\n",
              "2      Bad  company: How Risky is Its Autonomous Driving P...\n",
              "3     Good  company Plans Ride-Hailing Service With Fleet ...\n",
              "4      Bad                 company Files 8K - Other Events >F"
            ]
          },
          "metadata": {
            "tags": []
          },
          "execution_count": 43
        }
      ]
    },
    {
      "metadata": {
        "id": "HX0y6j45AgFx",
        "colab_type": "text"
      },
      "cell_type": "markdown",
      "source": [
        "**Explore data**"
      ]
    },
    {
      "metadata": {
        "id": "Gm2staC2_76W",
        "colab_type": "code",
        "outputId": "9177240e-c09f-41fb-fef9-e350b77aab9a",
        "colab": {
          "base_uri": "https://localhost:8080/",
          "height": 278
        }
      },
      "cell_type": "code",
      "source": [
        "data = TextClasDataBunch.from_df(path=\".\", train_df = train_data, valid_df = test_data)\n",
        "data.show_batch()"
      ],
      "execution_count": 44,
      "outputs": [
        {
          "output_type": "display_data",
          "data": {
            "text/html": [
              "<table border=\"1\" class=\"dataframe\">\n",
              "  <thead>\n",
              "    <tr style=\"text-align: right;\">\n",
              "      <th>text</th>\n",
              "      <th>target</th>\n",
              "    </tr>\n",
              "  </thead>\n",
              "  <tbody>\n",
              "    <tr>\n",
              "      <td>xxbos ( xxup files ) xxmaj this file photo taken on xxmaj may 19 , 2016 shows the xxunk of xxmaj germany 's biggest lender company seen during the company 's annual shareholders ' meeting in xxmaj frankfurt xxunk xxmaj main , western xxmaj germany . company , xxmaj germany 's biggest company , has xxunk to pay $ 95 million to settle a tax fraud case xxunk by the</td>\n",
              "      <td>Bad</td>\n",
              "    </tr>\n",
              "    <tr>\n",
              "      <td>xxbos xxmaj president not a threat to xxmaj fed 's independence , xxmaj mnuchin says ; xxup news xxup briefing ; xxmaj staff and news services ; xxmaj police take xxunk in xxup la xxmaj trader xxmaj xxunk 's into xxunk ; xxmaj french investigators raid home of xxmaj macron 's former bodyguard ; company chooses xxmaj jeep exec xxmaj manley to replace ill xxup ceo ; xxmaj application to</td>\n",
              "      <td>Bad</td>\n",
              "    </tr>\n",
              "    <tr>\n",
              "      <td>xxbos xxup nvidia xxup gets xxup into company xxup 's xxup self - xxup driving xxup car xxup plans ; xxup xxunk xxup to xxup provide xxup platform xxup for xxup processing xxup xxunk xxup data xxup new xxup partnership xxup to xxup provide xxup platform xxup for xxup self - xxup driving xxup car xxup xxunk xxup for xxup german xxup auto xxup giant , xxup and xxup mercedes</td>\n",
              "      <td>Good</td>\n",
              "    </tr>\n",
              "    <tr>\n",
              "      <td>xxbos xxmaj trump not threatening xxmaj fed 's independence , xxmaj mnuchin says ; xxmaj trump finds it ' inconceivable ' lawyer would record a client ; xxmaj french investigators raid home of xxmaj macron 's former bodyguard ; company chooses xxmaj jeep exec xxmaj manley to replace ill xxup ceo ; xxmaj cemetery bodies still not id'd after 2016 hurricane ; xxmaj cuban officials accept move in xxmaj cabinet</td>\n",
              "      <td>Bad</td>\n",
              "    </tr>\n",
              "    <tr>\n",
              "      <td>xxbos xxmaj syncrude xxmaj canada oil sands operation shut down , staff xxunk , due to xxmaj fort mcmurray fire ; xxmaj syncrude xxmaj canada , a joint venture of several energy companies led by company xxmaj energy xxmaj inc. and xxmaj xxunk xxmaj oil xxmaj ltd. , xxunk up to xxunk xxunk a day of light xxunk crude xxunk from the oil</td>\n",
              "      <td>Bad</td>\n",
              "    </tr>\n",
              "  </tbody>\n",
              "</table>"
            ],
            "text/plain": [
              "<IPython.core.display.HTML object>"
            ]
          },
          "metadata": {
            "tags": []
          }
        }
      ]
    },
    {
      "metadata": {
        "id": "-nJdjlnYAXAL",
        "colab_type": "code",
        "outputId": "a521032b-4183-4895-ec5f-9e634d44181e",
        "colab": {
          "base_uri": "https://localhost:8080/",
          "height": 195
        }
      },
      "cell_type": "code",
      "source": [
        "data.vocab.itos[:10]"
      ],
      "execution_count": 45,
      "outputs": [
        {
          "output_type": "execute_result",
          "data": {
            "text/plain": [
              "['xxunk',\n",
              " 'xxpad',\n",
              " 'xxbos',\n",
              " 'xxeos',\n",
              " 'xxfld',\n",
              " 'xxmaj',\n",
              " 'xxup',\n",
              " 'xxrep',\n",
              " 'xxwrep',\n",
              " 'company']"
            ]
          },
          "metadata": {
            "tags": []
          },
          "execution_count": 45
        }
      ]
    },
    {
      "metadata": {
        "id": "OkzUsGjWAZ0Q",
        "colab_type": "code",
        "outputId": "a33ed95d-2d41-41e3-9ed0-b5df73234272",
        "colab": {
          "base_uri": "https://localhost:8080/",
          "height": 35
        }
      },
      "cell_type": "code",
      "source": [
        "data.train_ds[0][0]"
      ],
      "execution_count": 46,
      "outputs": [
        {
          "output_type": "execute_result",
          "data": {
            "text/plain": [
              "Text xxbos company : xxmaj that 's a xxmaj xxunk of xxmaj recalls -- xxmaj barron 's xxmaj blog"
            ]
          },
          "metadata": {
            "tags": []
          },
          "execution_count": 46
        }
      ]
    },
    {
      "metadata": {
        "id": "harp10DIAcRa",
        "colab_type": "code",
        "outputId": "11eda383-ff62-48a5-d124-801733ca529e",
        "colab": {
          "base_uri": "https://localhost:8080/",
          "height": 35
        }
      },
      "cell_type": "code",
      "source": [
        "data.train_ds[0][0].data[:10]"
      ],
      "execution_count": 47,
      "outputs": [
        {
          "output_type": "execute_result",
          "data": {
            "text/plain": [
              "array([  2,   9,  12,   5, 207,  16,  28,   5,   0,  15])"
            ]
          },
          "metadata": {
            "tags": []
          },
          "execution_count": 47
        }
      ]
    },
    {
      "metadata": {
        "id": "It47lXUbAi7d",
        "colab_type": "text"
      },
      "cell_type": "markdown",
      "source": [
        "**Develop language model**"
      ]
    },
    {
      "metadata": {
        "id": "pSyQji8_-4yM",
        "colab_type": "code",
        "colab": {}
      },
      "cell_type": "code",
      "source": [
        "data_lm = (TextList.from_df(path=\".\", df = combined_data[['text']])\n",
        "            .split_by_rand_pct(0.3)\n",
        "           #We randomly split and keep 10% (10,000 reviews) for validation\n",
        "            .label_for_lm()           \n",
        "           #We want to do a language model so we label accordingly\n",
        "            .databunch(bs=48))\n",
        "data_lm.save('data_lm.pkl')"
      ],
      "execution_count": 0,
      "outputs": []
    },
    {
      "metadata": {
        "id": "fvSZVILfBKuk",
        "colab_type": "code",
        "colab": {}
      },
      "cell_type": "code",
      "source": [
        "# Load\n",
        "data_lm = load_data(\".\", 'data_lm.pkl', bs=48)"
      ],
      "execution_count": 0,
      "outputs": []
    },
    {
      "metadata": {
        "id": "5uwVi_TUCAWf",
        "colab_type": "code",
        "outputId": "b9add56e-5fcb-4ddb-916a-2254eb70c949",
        "colab": {
          "base_uri": "https://localhost:8080/",
          "height": 278
        }
      },
      "cell_type": "code",
      "source": [
        "data_lm.show_batch()"
      ],
      "execution_count": 50,
      "outputs": [
        {
          "output_type": "display_data",
          "data": {
            "text/html": [
              "<table border=\"1\" class=\"dataframe\">\n",
              "  <thead>\n",
              "    <tr style=\"text-align: right;\">\n",
              "      <th>idx</th>\n",
              "      <th>text</th>\n",
              "    </tr>\n",
              "  </thead>\n",
              "  <tbody>\n",
              "    <tr>\n",
              "      <td>0</td>\n",
              "      <td>xxmaj with xxmaj fleet of xxmaj driverless xxmaj cars by 2021 xxbos company : xxmaj why xxmaj goldman xxmaj sachs xxmaj xxunk in the xxmaj xxunk -- xxmaj barron 's xxmaj blog xxbos company : xxmaj it 's xxmaj still xxmaj not xxmaj general xxmaj motors -- xxmaj barron 's xxmaj blog xxbos company xxmaj earnings : xxmaj what to xxmaj watch ; xxup u.s. production , xxmaj brexit</td>\n",
              "    </tr>\n",
              "    <tr>\n",
              "      <td>1</td>\n",
              "      <td>operations in xxmaj indonesia and xxmaj xxunk xxbos xxup dj company xxmaj company , xxmaj inst xxmaj holders , xxup 4q 2015 ( f ) xxbos company xxmaj files 8 k - xxmaj other xxmaj events &gt; f xxbos xxmaj press xxmaj release : company xxmaj company to xxmaj host xxmaj conference xxmaj call on xxmaj xxunk and xxup xxunk xxmaj plans xxbos xxmaj press xxmaj release : company</td>\n",
              "    </tr>\n",
              "    <tr>\n",
              "      <td>2</td>\n",
              "      <td>xxmaj third xxmaj quarter 2015 xxbos xxmaj xxunk xxunk sues xxmaj xxunk xxmaj xxunk xxmaj xxunk : xxmaj xxunk man also sues company xxmaj co. , xxmaj jeep 's xxunk . xxbos company launching car - sharing xxunk program xxbos company targets xxunk xxunk with innovation award xxbos xxmaj press xxmaj release : company xxmaj company xxmaj invests $ 1 xxmaj million in xxmaj xxunk , xxmaj xxunk xxmaj</td>\n",
              "    </tr>\n",
              "    <tr>\n",
              "      <td>3</td>\n",
              "      <td>energy shares are expected to xxunk xxunk oil prices xxbos xxmaj xxunk in line for huge cash xxunk by company xxbos xxmaj xxunk ; company is xxunk the xxunk xxunk xxbos company to build chemical plant and xxup xxunk xxunk in xxmaj china xxbos company , xxmaj xxunk make another xxunk by xxmaj xxunk xxbos xxmaj expansion xxunk in xxmaj xxunk ; company looks to add on a xxunk</td>\n",
              "    </tr>\n",
              "    <tr>\n",
              "      <td>4</td>\n",
              "      <td>xxmaj global xxmaj finance : company xxmaj sells xxmaj bonds xxmaj but xxmaj cost xxmaj has xxmaj increased xxbos company xxmaj profit xxmaj xxunk xxunk 2nd xxmaj update xxbos xxmaj california xxunk general probes company over climate change xxbos company steps up defense ; xxmaj company xxunk for xxunk , xxunk of xxunk in xxunk at oil refinery xxbos company and free xxunk xxbos xxup xxunk xxup xxunk xxup</td>\n",
              "    </tr>\n",
              "  </tbody>\n",
              "</table>"
            ],
            "text/plain": [
              "<IPython.core.display.HTML object>"
            ]
          },
          "metadata": {
            "tags": []
          }
        }
      ]
    },
    {
      "metadata": {
        "id": "5Au3WRV-CErh",
        "colab_type": "code",
        "colab": {}
      },
      "cell_type": "code",
      "source": [
        "learn = language_model_learner(data_lm, AWD_LSTM, drop_mult=0.3)"
      ],
      "execution_count": 0,
      "outputs": []
    },
    {
      "metadata": {
        "id": "VBza0peQCIEo",
        "colab_type": "code",
        "outputId": "9940b7df-63ed-4ddd-a65d-b447814b457d",
        "colab": {
          "base_uri": "https://localhost:8080/",
          "height": 35
        }
      },
      "cell_type": "code",
      "source": [
        "learn.lr_find()"
      ],
      "execution_count": 52,
      "outputs": [
        {
          "output_type": "display_data",
          "data": {
            "text/html": [
              ""
            ],
            "text/plain": [
              "<IPython.core.display.HTML object>"
            ]
          },
          "metadata": {
            "tags": []
          }
        },
        {
          "output_type": "stream",
          "text": [
            "LR Finder is complete, type {learner_name}.recorder.plot() to see the graph.\n"
          ],
          "name": "stdout"
        }
      ]
    },
    {
      "metadata": {
        "id": "L1Zz_XDDCKrs",
        "colab_type": "code",
        "outputId": "9fbf9706-d814-4ca9-9b22-df7df6d4eed4",
        "colab": {
          "base_uri": "https://localhost:8080/",
          "height": 279
        }
      },
      "cell_type": "code",
      "source": [
        "learn.recorder.plot()"
      ],
      "execution_count": 53,
      "outputs": [
        {
          "output_type": "display_data",
          "data": {
            "image/png": "[encoded data removed]",
            "text/plain": [
              "<Figure size 432x288 with 1 Axes>"
            ]
          },
          "metadata": {
            "tags": []
          }
        }
      ]
    },
    {
      "metadata": {
        "id": "KFkKYmJ9CTSe",
        "colab_type": "code",
        "outputId": "11dc74cf-3b2c-4b8c-f020-9abdf627d70e",
        "colab": {
          "base_uri": "https://localhost:8080/",
          "height": 158
        }
      },
      "cell_type": "code",
      "source": [
        "learn.fit_one_cycle(3, 5e-2, moms=(0.8,0.7))"
      ],
      "execution_count": 54,
      "outputs": [
        {
          "output_type": "display_data",
          "data": {
            "text/html": [
              "Total time: 00:09 <p><table border=\"1\" class=\"dataframe\">\n",
              "  <thead>\n",
              "    <tr style=\"text-align: left;\">\n",
              "      <th>epoch</th>\n",
              "      <th>train_loss</th>\n",
              "      <th>valid_loss</th>\n",
              "      <th>accuracy</th>\n",
              "      <th>time</th>\n",
              "    </tr>\n",
              "  </thead>\n",
              "  <tbody>\n",
              "    <tr>\n",
              "      <td>0</td>\n",
              "      <td>5.005811</td>\n",
              "      <td>3.484247</td>\n",
              "      <td>0.348140</td>\n",
              "      <td>00:03</td>\n",
              "    </tr>\n",
              "    <tr>\n",
              "      <td>1</td>\n",
              "      <td>4.052349</td>\n",
              "      <td>3.017199</td>\n",
              "      <td>0.407441</td>\n",
              "      <td>00:03</td>\n",
              "    </tr>\n",
              "    <tr>\n",
              "      <td>2</td>\n",
              "      <td>3.530997</td>\n",
              "      <td>2.980220</td>\n",
              "      <td>0.407813</td>\n",
              "      <td>00:03</td>\n",
              "    </tr>\n",
              "  </tbody>\n",
              "</table>"
            ],
            "text/plain": [
              "<IPython.core.display.HTML object>"
            ]
          },
          "metadata": {
            "tags": []
          }
        }
      ]
    },
    {
      "metadata": {
        "id": "pQJDpDJVCbgJ",
        "colab_type": "code",
        "colab": {}
      },
      "cell_type": "code",
      "source": [
        "learn.save('fit_head')"
      ],
      "execution_count": 0,
      "outputs": []
    },
    {
      "metadata": {
        "id": "I1770py_Cj8d",
        "colab_type": "code",
        "colab": {}
      },
      "cell_type": "code",
      "source": [
        "learn.load('fit_head');"
      ],
      "execution_count": 0,
      "outputs": []
    },
    {
      "metadata": {
        "id": "EWsEkQuNCkBQ",
        "colab_type": "code",
        "colab": {}
      },
      "cell_type": "code",
      "source": [
        "learn.unfreeze()"
      ],
      "execution_count": 0,
      "outputs": []
    },
    {
      "metadata": {
        "id": "sLT08WjXDzxG",
        "colab_type": "code",
        "outputId": "0f8c6eb5-91a3-43e8-aff5-7ba650b2d6af",
        "colab": {
          "base_uri": "https://localhost:8080/",
          "height": 129
        }
      },
      "cell_type": "code",
      "source": [
        "learn.fit_one_cycle(2, 1e-3, moms=(0.8,0.7))"
      ],
      "execution_count": 58,
      "outputs": [
        {
          "output_type": "display_data",
          "data": {
            "text/html": [
              "Total time: 00:07 <p><table border=\"1\" class=\"dataframe\">\n",
              "  <thead>\n",
              "    <tr style=\"text-align: left;\">\n",
              "      <th>epoch</th>\n",
              "      <th>train_loss</th>\n",
              "      <th>valid_loss</th>\n",
              "      <th>accuracy</th>\n",
              "      <th>time</th>\n",
              "    </tr>\n",
              "  </thead>\n",
              "  <tbody>\n",
              "    <tr>\n",
              "      <td>0</td>\n",
              "      <td>2.625372</td>\n",
              "      <td>2.865228</td>\n",
              "      <td>0.431250</td>\n",
              "      <td>00:03</td>\n",
              "    </tr>\n",
              "    <tr>\n",
              "      <td>1</td>\n",
              "      <td>2.500508</td>\n",
              "      <td>2.835214</td>\n",
              "      <td>0.434524</td>\n",
              "      <td>00:03</td>\n",
              "    </tr>\n",
              "  </tbody>\n",
              "</table>"
            ],
            "text/plain": [
              "<IPython.core.display.HTML object>"
            ]
          },
          "metadata": {
            "tags": []
          }
        }
      ]
    },
    {
      "metadata": {
        "id": "HZTBLaRsDz0Q",
        "colab_type": "code",
        "colab": {}
      },
      "cell_type": "code",
      "source": [
        "learn.save('fine_tuned')"
      ],
      "execution_count": 0,
      "outputs": []
    },
    {
      "metadata": {
        "id": "dEmzB67WDz4i",
        "colab_type": "code",
        "colab": {}
      },
      "cell_type": "code",
      "source": [
        "learn.load('fine_tuned');"
      ],
      "execution_count": 0,
      "outputs": []
    },
    {
      "metadata": {
        "id": "I7AyMCeOCkEb",
        "colab_type": "code",
        "colab": {}
      },
      "cell_type": "code",
      "source": [
        "TEXT = \"\"\n",
        "N_WORDS = 20\n",
        "N_SENTENCES = 2"
      ],
      "execution_count": 0,
      "outputs": []
    },
    {
      "metadata": {
        "id": "hlncQC1PCmru",
        "colab_type": "code",
        "outputId": "bf43a10e-6ce1-4933-cf63-0a674b59885b",
        "colab": {
          "base_uri": "https://localhost:8080/",
          "height": 52
        }
      },
      "cell_type": "code",
      "source": [
        "print(\"\\n\".join(learn.predict(TEXT, N_WORDS, temperature=0.75) for _ in range(N_SENTENCES)))"
      ],
      "execution_count": 62,
      "outputs": [
        {
          "output_type": "stream",
          "text": [
            " Press Release : company Corporation Announces Date for Earnings Release and Conference\n",
            " company Energy to boost production output and stop blast at Iran 's gas field ; This part\n"
          ],
          "name": "stdout"
        }
      ]
    },
    {
      "metadata": {
        "id": "UXK2-_SYCm6z",
        "colab_type": "code",
        "colab": {}
      },
      "cell_type": "code",
      "source": [
        "learn.save_encoder('fine_tuned_enc')"
      ],
      "execution_count": 0,
      "outputs": []
    },
    {
      "metadata": {
        "id": "RdqPsANrD7lH",
        "colab_type": "text"
      },
      "cell_type": "markdown",
      "source": [
        "**Classifier**"
      ]
    },
    {
      "metadata": {
        "id": "ukTsX9t2D6L9",
        "colab_type": "code",
        "colab": {}
      },
      "cell_type": "code",
      "source": [
        "# Classifier\n",
        "data_clas = TextClasDataBunch.from_df(path = \".\", train_df = train_data, valid_df = test_data, vocab = data_lm.vocab, text_cols=\"text\", label_cols=\"label\")"
      ],
      "execution_count": 0,
      "outputs": []
    },
    {
      "metadata": {
        "id": "VqruHDY0D8tu",
        "colab_type": "code",
        "colab": {}
      },
      "cell_type": "code",
      "source": [
        "learn = text_classifier_learner(data_clas, AWD_LSTM, drop_mult=0.5)\n",
        "learn.load_encoder('fine_tuned_enc')"
      ],
      "execution_count": 0,
      "outputs": []
    },
    {
      "metadata": {
        "id": "HVm3a_th6utN",
        "colab_type": "code",
        "outputId": "840c4102-9466-4836-804c-c43647dd2f40",
        "colab": {
          "base_uri": "https://localhost:8080/",
          "height": 35
        }
      },
      "cell_type": "code",
      "source": [
        "learn.lr_find()"
      ],
      "execution_count": 90,
      "outputs": [
        {
          "output_type": "display_data",
          "data": {
            "text/html": [
              ""
            ],
            "text/plain": [
              "<IPython.core.display.HTML object>"
            ]
          },
          "metadata": {
            "tags": []
          }
        },
        {
          "output_type": "stream",
          "text": [
            "LR Finder is complete, type {learner_name}.recorder.plot() to see the graph.\n"
          ],
          "name": "stdout"
        }
      ]
    },
    {
      "metadata": {
        "id": "uO5kle0u6xCF",
        "colab_type": "code",
        "outputId": "d5a6a04e-392e-40a7-dca8-6d70f5670653",
        "colab": {
          "base_uri": "https://localhost:8080/",
          "height": 279
        }
      },
      "cell_type": "code",
      "source": [
        "learn.recorder.plot()"
      ],
      "execution_count": 91,
      "outputs": [
        {
          "output_type": "display_data",
          "data": {
            "image/png": "[encoded data removed]",
            "text/plain": [
              "<Figure size 432x288 with 1 Axes>"
            ]
          },
          "metadata": {
            "tags": []
          }
        }
      ]
    },
    {
      "metadata": {
        "id": "fY5UGtLi6yIm",
        "colab_type": "code",
        "outputId": "70d4dce1-74f4-48df-c499-0f12d039d964",
        "colab": {
          "base_uri": "https://localhost:8080/",
          "height": 100
        }
      },
      "cell_type": "code",
      "source": [
        "learn.fit_one_cycle(1, 5e-3, moms=(0.8,0.7))"
      ],
      "execution_count": 92,
      "outputs": [
        {
          "output_type": "display_data",
          "data": {
            "text/html": [
              "Total time: 00:02 <p><table border=\"1\" class=\"dataframe\">\n",
              "  <thead>\n",
              "    <tr style=\"text-align: left;\">\n",
              "      <th>epoch</th>\n",
              "      <th>train_loss</th>\n",
              "      <th>valid_loss</th>\n",
              "      <th>accuracy</th>\n",
              "      <th>time</th>\n",
              "    </tr>\n",
              "  </thead>\n",
              "  <tbody>\n",
              "    <tr>\n",
              "      <td>0</td>\n",
              "      <td>1.078570</td>\n",
              "      <td>0.996844</td>\n",
              "      <td>0.543568</td>\n",
              "      <td>00:02</td>\n",
              "    </tr>\n",
              "  </tbody>\n",
              "</table>"
            ],
            "text/plain": [
              "<IPython.core.display.HTML object>"
            ]
          },
          "metadata": {
            "tags": []
          }
        }
      ]
    },
    {
      "metadata": {
        "id": "AdYK9Xia6yLI",
        "colab_type": "code",
        "colab": {}
      },
      "cell_type": "code",
      "source": [
        "learn.save('first')"
      ],
      "execution_count": 0,
      "outputs": []
    },
    {
      "metadata": {
        "id": "MmOk-FZE6yNw",
        "colab_type": "code",
        "colab": {}
      },
      "cell_type": "code",
      "source": [
        "learn.load('first');"
      ],
      "execution_count": 0,
      "outputs": []
    },
    {
      "metadata": {
        "id": "xTIRfepw6yQI",
        "colab_type": "code",
        "outputId": "f3965b10-5703-4a8e-c4c2-eedb77f953aa",
        "colab": {
          "base_uri": "https://localhost:8080/",
          "height": 100
        }
      },
      "cell_type": "code",
      "source": [
        "learn.freeze_to(-2)\n",
        "learn.fit_one_cycle(1, slice(2e-3/(2.6**4),2e-3), moms=(0.8,0.7))"
      ],
      "execution_count": 101,
      "outputs": [
        {
          "output_type": "display_data",
          "data": {
            "text/html": [
              "Total time: 00:02 <p><table border=\"1\" class=\"dataframe\">\n",
              "  <thead>\n",
              "    <tr style=\"text-align: left;\">\n",
              "      <th>epoch</th>\n",
              "      <th>train_loss</th>\n",
              "      <th>valid_loss</th>\n",
              "      <th>accuracy</th>\n",
              "      <th>time</th>\n",
              "    </tr>\n",
              "  </thead>\n",
              "  <tbody>\n",
              "    <tr>\n",
              "      <td>0</td>\n",
              "      <td>1.022598</td>\n",
              "      <td>0.971229</td>\n",
              "      <td>0.539419</td>\n",
              "      <td>00:02</td>\n",
              "    </tr>\n",
              "  </tbody>\n",
              "</table>"
            ],
            "text/plain": [
              "<IPython.core.display.HTML object>"
            ]
          },
          "metadata": {
            "tags": []
          }
        }
      ]
    },
    {
      "metadata": {
        "id": "R-9Pdglw6yZc",
        "colab_type": "code",
        "colab": {}
      },
      "cell_type": "code",
      "source": [
        "learn.save('second')"
      ],
      "execution_count": 0,
      "outputs": []
    },
    {
      "metadata": {
        "id": "vKz7ZCXu6yb-",
        "colab_type": "code",
        "colab": {}
      },
      "cell_type": "code",
      "source": [
        "learn.load('second');"
      ],
      "execution_count": 0,
      "outputs": []
    },
    {
      "metadata": {
        "id": "PykcfgOI6ygu",
        "colab_type": "code",
        "outputId": "2e2bfb84-be4c-4715-8ec3-d6b87a0f6cf3",
        "colab": {
          "base_uri": "https://localhost:8080/",
          "height": 100
        }
      },
      "cell_type": "code",
      "source": [
        "learn.freeze_to(-3)\n",
        "learn.fit_one_cycle(1, slice(1e-3/(2.6**4),1e-3), moms=(0.8,0.7))"
      ],
      "execution_count": 104,
      "outputs": [
        {
          "output_type": "display_data",
          "data": {
            "text/html": [
              "Total time: 00:04 <p><table border=\"1\" class=\"dataframe\">\n",
              "  <thead>\n",
              "    <tr style=\"text-align: left;\">\n",
              "      <th>epoch</th>\n",
              "      <th>train_loss</th>\n",
              "      <th>valid_loss</th>\n",
              "      <th>accuracy</th>\n",
              "      <th>time</th>\n",
              "    </tr>\n",
              "  </thead>\n",
              "  <tbody>\n",
              "    <tr>\n",
              "      <td>0</td>\n",
              "      <td>0.989325</td>\n",
              "      <td>0.954266</td>\n",
              "      <td>0.572614</td>\n",
              "      <td>00:04</td>\n",
              "    </tr>\n",
              "  </tbody>\n",
              "</table>"
            ],
            "text/plain": [
              "<IPython.core.display.HTML object>"
            ]
          },
          "metadata": {
            "tags": []
          }
        }
      ]
    },
    {
      "metadata": {
        "id": "dAZSVNDt6ylR",
        "colab_type": "code",
        "colab": {}
      },
      "cell_type": "code",
      "source": [
        "learn.save('third')"
      ],
      "execution_count": 0,
      "outputs": []
    },
    {
      "metadata": {
        "id": "ueEwY6m66ynp",
        "colab_type": "code",
        "colab": {}
      },
      "cell_type": "code",
      "source": [
        "learn.load('third');"
      ],
      "execution_count": 0,
      "outputs": []
    },
    {
      "metadata": {
        "id": "ENVPbnFF6yqJ",
        "colab_type": "code",
        "outputId": "b7310abd-b7fe-47e9-c07c-0c2c6fda4bef",
        "colab": {
          "base_uri": "https://localhost:8080/",
          "height": 129
        }
      },
      "cell_type": "code",
      "source": [
        "learn.unfreeze()\n",
        "learn.fit_one_cycle(2, slice(1e-3/(2.6**4),2e-3), moms=(0.8,0.7))"
      ],
      "execution_count": 115,
      "outputs": [
        {
          "output_type": "display_data",
          "data": {
            "text/html": [
              "Total time: 00:11 <p><table border=\"1\" class=\"dataframe\">\n",
              "  <thead>\n",
              "    <tr style=\"text-align: left;\">\n",
              "      <th>epoch</th>\n",
              "      <th>train_loss</th>\n",
              "      <th>valid_loss</th>\n",
              "      <th>accuracy</th>\n",
              "      <th>time</th>\n",
              "    </tr>\n",
              "  </thead>\n",
              "  <tbody>\n",
              "    <tr>\n",
              "      <td>0</td>\n",
              "      <td>0.977477</td>\n",
              "      <td>0.959264</td>\n",
              "      <td>0.556017</td>\n",
              "      <td>00:05</td>\n",
              "    </tr>\n",
              "    <tr>\n",
              "      <td>1</td>\n",
              "      <td>0.948694</td>\n",
              "      <td>0.959307</td>\n",
              "      <td>0.543568</td>\n",
              "      <td>00:05</td>\n",
              "    </tr>\n",
              "  </tbody>\n",
              "</table>"
            ],
            "text/plain": [
              "<IPython.core.display.HTML object>"
            ]
          },
          "metadata": {
            "tags": []
          }
        }
      ]
    },
    {
      "metadata": {
        "id": "iQxthwUF7bfk",
        "colab_type": "code",
        "outputId": "fbcc9ad4-ff12-4df7-cf9e-86e3981899f8",
        "colab": {
          "base_uri": "https://localhost:8080/",
          "height": 35
        }
      },
      "cell_type": "code",
      "source": [
        "learn.predict(\"Revenues went up\")"
      ],
      "execution_count": 116,
      "outputs": [
        {
          "output_type": "execute_result",
          "data": {
            "text/plain": [
              "(Category Bad, tensor(0), tensor([0.4653, 0.3655, 0.1692]))"
            ]
          },
          "metadata": {
            "tags": []
          },
          "execution_count": 116
        }
      ]
    },
    {
      "metadata": {
        "id": "1mkrtUmr7bh-",
        "colab_type": "code",
        "colab": {}
      },
      "cell_type": "code",
      "source": [
        "preds,y = learn.get_preds(ds_type=\"test\", ordered = True)"
      ],
      "execution_count": 0,
      "outputs": []
    },
    {
      "metadata": {
        "id": "ipYMWo317bkK",
        "colab_type": "code",
        "outputId": "b61db798-1455-4236-b08f-61a2e7b8f9af",
        "colab": {
          "base_uri": "https://localhost:8080/",
          "height": 35
        }
      },
      "cell_type": "code",
      "source": [
        "accuracy(preds,y)"
      ],
      "execution_count": 118,
      "outputs": [
        {
          "output_type": "execute_result",
          "data": {
            "text/plain": [
              "tensor(0.6590)"
            ]
          },
          "metadata": {
            "tags": []
          },
          "execution_count": 118
        }
      ]
    },
    {
      "metadata": {
        "id": "3lJBw_IC7brH",
        "colab_type": "code",
        "colab": {}
      },
      "cell_type": "code",
      "source": [
        "individual_preds = test_data['text'].apply(learn.predict)"
      ],
      "execution_count": 0,
      "outputs": []
    },
    {
      "metadata": {
        "id": "LOP0ZTAT7b0f",
        "colab_type": "code",
        "outputId": "ed65950e-8ca2-4047-c22f-3eae64e269fc",
        "colab": {
          "base_uri": "https://localhost:8080/",
          "height": 88
        }
      },
      "cell_type": "code",
      "source": [
        "i = 1\n",
        "print(test_data['text'][i])\n",
        "print(learn.predict(test_data['text'][i]))\n",
        "print(individual_preds[i])\n",
        "print(preds[i])"
      ],
      "execution_count": 121,
      "outputs": [
        {
          "output_type": "stream",
          "text": [
            "company Plans More Asset Sales, Debt Reduction\n",
            "(Category Good, tensor(1), tensor([0.1279, 0.7119, 0.1603]))\n",
            "(Category Good, tensor(1), tensor([0.1279, 0.7119, 0.1603]))\n",
            "tensor([0.0437, 0.1880, 0.7683])\n"
          ],
          "name": "stdout"
        }
      ]
    },
    {
      "metadata": {
        "id": "frdJDBRQ7b5D",
        "colab_type": "code",
        "outputId": "e326ca4b-5ba7-41bf-bc84-e14b17d861b7",
        "colab": {
          "base_uri": "https://localhost:8080/",
          "height": 212
        }
      },
      "cell_type": "code",
      "source": [
        "test_data.label[0:10]"
      ],
      "execution_count": 122,
      "outputs": [
        {
          "output_type": "execute_result",
          "data": {
            "text/plain": [
              "0       Good\n",
              "1       Good\n",
              "2       Good\n",
              "3       Good\n",
              "4       Good\n",
              "5       Good\n",
              "6        Bad\n",
              "7    Neutral\n",
              "8        Bad\n",
              "9       Good\n",
              "Name: label, dtype: object"
            ]
          },
          "metadata": {
            "tags": []
          },
          "execution_count": 122
        }
      ]
    },
    {
      "metadata": {
        "id": "92WQ0P557b-D",
        "colab_type": "code",
        "outputId": "97582480-cfe3-4672-bfe1-13ce87716c67",
        "colab": {
          "base_uri": "https://localhost:8080/",
          "height": 35
        }
      },
      "cell_type": "code",
      "source": [
        "y[0:10]"
      ],
      "execution_count": 123,
      "outputs": [
        {
          "output_type": "execute_result",
          "data": {
            "text/plain": [
              "tensor([0, 2, 0, 1, 0, 0, 0, 0, 2, 2])"
            ]
          },
          "metadata": {
            "tags": []
          },
          "execution_count": 123
        }
      ]
    },
    {
      "metadata": {
        "id": "pg4zv5pM7b73",
        "colab_type": "code",
        "colab": {}
      },
      "cell_type": "code",
      "source": [
        "bad_pred = []\n",
        "good_pred = []\n",
        "neutral_pred = []\n",
        "\n",
        "for idx in range(test_data.shape[0]):\n",
        "  bad_pred.append(np.array(individual_preds[idx][2][0]).item())\n",
        "  good_pred.append(np.array(individual_preds[idx][2][1]).item())\n",
        "  neutral_pred.append(np.array(individual_preds[idx][2][2]).item())\n",
        "\n"
      ],
      "execution_count": 0,
      "outputs": []
    },
    {
      "metadata": {
        "id": "lzWJc0ls7b3T",
        "colab_type": "code",
        "colab": {}
      },
      "cell_type": "code",
      "source": [
        "test_data['bad'] = bad_pred\n",
        "test_data['good'] = good_pred\n",
        "test_data['neutral'] = neutral_pred"
      ],
      "execution_count": 0,
      "outputs": []
    },
    {
      "metadata": {
        "id": "vJZFe-G_7bvs",
        "colab_type": "code",
        "colab": {}
      },
      "cell_type": "code",
      "source": [
        "from google.colab import files\n",
        "\n",
        "test_data.to_csv('scored_test_data_company.csv')\n",
        "files.download('scored_test_data_company.csv')"
      ],
      "execution_count": 0,
      "outputs": []
    },
    {
      "metadata": {
        "id": "Tpab1duE7btR",
        "colab_type": "code",
        "colab": {}
      },
      "cell_type": "code",
      "source": [
        ""
      ],
      "execution_count": 0,
      "outputs": []
    },
    {
      "metadata": {
        "id": "kMHgs3Pl7box",
        "colab_type": "code",
        "colab": {}
      },
      "cell_type": "code",
      "source": [
        ""
      ],
      "execution_count": 0,
      "outputs": []
    },
    {
      "metadata": {
        "id": "n_IFSbRi7bmg",
        "colab_type": "code",
        "colab": {}
      },
      "cell_type": "code",
      "source": [
        ""
      ],
      "execution_count": 0,
      "outputs": []
    },
    {
      "metadata": {
        "id": "8GOOkjAX6yu6",
        "colab_type": "code",
        "colab": {}
      },
      "cell_type": "code",
      "source": [
        ""
      ],
      "execution_count": 0,
      "outputs": []
    },
    {
      "metadata": {
        "id": "FtlT9XyE6yxp",
        "colab_type": "code",
        "colab": {}
      },
      "cell_type": "code",
      "source": [
        ""
      ],
      "execution_count": 0,
      "outputs": []
    },
    {
      "metadata": {
        "id": "_ts6y0CG6y2O",
        "colab_type": "code",
        "colab": {}
      },
      "cell_type": "code",
      "source": [
        ""
      ],
      "execution_count": 0,
      "outputs": []
    },
    {
      "metadata": {
        "id": "oC_jRGNq6y5N",
        "colab_type": "code",
        "colab": {}
      },
      "cell_type": "code",
      "source": [
        ""
      ],
      "execution_count": 0,
      "outputs": []
    },
    {
      "metadata": {
        "id": "FAWpPEL56yz2",
        "colab_type": "code",
        "colab": {}
      },
      "cell_type": "code",
      "source": [
        ""
      ],
      "execution_count": 0,
      "outputs": []
    },
    {
      "metadata": {
        "id": "A5YsSzr76ysu",
        "colab_type": "code",
        "colab": {}
      },
      "cell_type": "code",
      "source": [
        ""
      ],
      "execution_count": 0,
      "outputs": []
    },
    {
      "metadata": {
        "id": "9g1lrP_56yi_",
        "colab_type": "code",
        "colab": {}
      },
      "cell_type": "code",
      "source": [
        ""
      ],
      "execution_count": 0,
      "outputs": []
    },
    {
      "metadata": {
        "id": "sCbnkhs76yeh",
        "colab_type": "code",
        "colab": {}
      },
      "cell_type": "code",
      "source": [
        ""
      ],
      "execution_count": 0,
      "outputs": []
    },
    {
      "metadata": {
        "id": "gcHophOR6yXY",
        "colab_type": "code",
        "colab": {}
      },
      "cell_type": "code",
      "source": [
        ""
      ],
      "execution_count": 0,
      "outputs": []
    },
    {
      "metadata": {
        "id": "h0yfJwKL6yVd",
        "colab_type": "code",
        "colab": {}
      },
      "cell_type": "code",
      "source": [
        ""
      ],
      "execution_count": 0,
      "outputs": []
    },
    {
      "metadata": {
        "id": "3Ewh9hhO6yTC",
        "colab_type": "code",
        "colab": {}
      },
      "cell_type": "code",
      "source": [
        ""
      ],
      "execution_count": 0,
      "outputs": []
    }
  ]
}